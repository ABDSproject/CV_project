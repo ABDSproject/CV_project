{
 "cells": [
  {
   "cell_type": "markdown",
   "id": "d92dc5e8",
   "metadata": {
    "toc": true
   },
   "source": [
    "<h1>Table of Contents<span class=\"tocSkip\"></span></h1>\n",
    "<div class=\"toc\"><ul class=\"toc-item\"><li><span><a href=\"#Keras-Tuner-for-Age-and-Gender-Prediction\" data-toc-modified-id=\"Keras-Tuner-for-Age-and-Gender-Prediction-1\">Keras Tuner for Age and Gender Prediction</a></span><ul class=\"toc-item\"><li><span><a href=\"#Imports\" data-toc-modified-id=\"Imports-1.1\">Imports</a></span></li><li><span><a href=\"#Загрузка-данных\" data-toc-modified-id=\"Загрузка-данных-1.2\">Загрузка данных</a></span></li><li><span><a href=\"#Keras-model-creation\" data-toc-modified-id=\"Keras-model-creation-1.3\">Keras model creation</a></span><ul class=\"toc-item\"><li><span><a href=\"#age-model-for-keras-tuner\" data-toc-modified-id=\"age-model-for-keras-tuner-1.3.1\">age model for keras tuner</a></span></li><li><span><a href=\"#AGE-ImageDataGenerator\" data-toc-modified-id=\"AGE-ImageDataGenerator-1.3.2\">AGE ImageDataGenerator</a></span></li><li><span><a href=\"#Создаем-tuner\" data-toc-modified-id=\"Создаем-tuner-1.3.3\">Создаем tuner</a></span></li><li><span><a href=\"#Запускаем-подбор-гиперпараметров\" data-toc-modified-id=\"Запускаем-подбор-гиперпараметров-1.3.4\">Запускаем подбор гиперпараметров</a></span><ul class=\"toc-item\"><li><span><a href=\"#Пространство-поиска\" data-toc-modified-id=\"Пространство-поиска-1.3.4.1\">Пространство поиска</a></span></li><li><span><a href=\"#Подбор-гиперпараметров\" data-toc-modified-id=\"Подбор-гиперпараметров-1.3.4.2\">Подбор гиперпараметров</a></span></li><li><span><a href=\"#Выбираем-лучшую-модель\" data-toc-modified-id=\"Выбираем-лучшую-модель-1.3.4.3\">Выбираем лучшую модель</a></span></li><li><span><a href=\"#Получаем-три-лучших-модели\" data-toc-modified-id=\"Получаем-три-лучших-модели-1.3.4.4\">Получаем три лучших модели</a></span></li><li><span><a href=\"#Оцениваем-качество-модели-на-тестовых-данных\" data-toc-modified-id=\"Оцениваем-качество-модели-на-тестовых-данных-1.3.4.5\">Оцениваем качество модели на тестовых данных</a></span></li></ul></li><li><span><a href=\"#gen-model-for-keras-tuner\" data-toc-modified-id=\"gen-model-for-keras-tuner-1.3.5\">gen model for keras tuner</a></span></li><li><span><a href=\"#GENDER-ImageDataGenerator\" data-toc-modified-id=\"GENDER-ImageDataGenerator-1.3.6\">GENDER ImageDataGenerator</a></span></li><li><span><a href=\"#Создаем-tuner\" data-toc-modified-id=\"Создаем-tuner-1.3.7\">Создаем tuner</a></span></li><li><span><a href=\"#Запускаем-подбор-гиперпараметров\" data-toc-modified-id=\"Запускаем-подбор-гиперпараметров-1.3.8\">Запускаем подбор гиперпараметров</a></span><ul class=\"toc-item\"><li><span><a href=\"#Пространство-поиска\" data-toc-modified-id=\"Пространство-поиска-1.3.8.1\">Пространство поиска</a></span></li><li><span><a href=\"#Подбор-гиперпараметров\" data-toc-modified-id=\"Подбор-гиперпараметров-1.3.8.2\">Подбор гиперпараметров</a></span></li><li><span><a href=\"#Выбираем-лучшую-модель\" data-toc-modified-id=\"Выбираем-лучшую-модель-1.3.8.3\">Выбираем лучшую модель</a></span></li><li><span><a href=\"#Получаем-три-лучших-модели\" data-toc-modified-id=\"Получаем-три-лучших-модели-1.3.8.4\">Получаем три лучших модели</a></span></li><li><span><a href=\"#Оцениваем-качество-модели-на-тестовых-данных\" data-toc-modified-id=\"Оцениваем-качество-модели-на-тестовых-данных-1.3.8.5\">Оцениваем качество модели на тестовых данных</a></span></li></ul></li></ul></li></ul></li></ul></div>"
   ]
  },
  {
   "cell_type": "markdown",
   "id": "119637df",
   "metadata": {},
   "source": [
    "# Keras Tuner for Age and Gender Prediction"
   ]
  },
  {
   "attachments": {
    "image-2.png": {
     "image/png": "[encoded data removed]"
    }
   },
   "cell_type": "markdown",
   "id": "78a9f4f1",
   "metadata": {},
   "source": [
    "\n",
    "![image-2.png](attachment:image-2.png)\n",
    "\n",
    "https://keras.io/keras_tuner/\n"
   ]
  },
  {
   "cell_type": "markdown",
   "id": "1b5e821f",
   "metadata": {},
   "source": [
    "## Imports"
   ]
  },
  {
   "cell_type": "code",
   "execution_count": 1,
   "id": "dfd9530e",
   "metadata": {},
   "outputs": [],
   "source": [
    "import os\n",
    "import random\n",
    "\n",
    "import pandas as pd\n",
    "import numpy as np\n",
    "\n",
    "import matplotlib.pyplot as plt\n",
    "import seaborn as sns\n",
    "\n",
    "import cv2\n",
    "from sklearn.model_selection import train_test_split\n",
    "\n",
    "from tqdm import tqdm\n",
    "\n",
    "np.random.seed(42)\n"
   ]
  },
  {
   "cell_type": "code",
   "execution_count": 2,
   "id": "c0cc3050",
   "metadata": {},
   "outputs": [],
   "source": [
    "import tensorflow as tf\n",
    "from tensorflow import keras\n",
    "from tensorflow.keras.models import Sequential\n",
    "from tensorflow.keras import layers\n",
    "from tensorflow.keras.layers import Input, Conv2D, MaxPooling2D, Activation, Dropout, Flatten, Dense, BatchNormalization, GlobalAveragePooling2D\n",
    "from keras import optimizers\n",
    "from keras.preprocessing.image import ImageDataGenerator\n",
    "\n",
    "import keras_tuner\n",
    "from keras_tuner.tuners import RandomSearch, Hyperband, BayesianOptimization\n",
    "from tensorflow.keras import utils\n",
    "\n",
    "from keras.callbacks import EarlyStopping\n",
    "from keras.callbacks import ModelCheckpoint\n",
    "from IPython.display import Image\n",
    "\n",
    "tf.random.set_seed(42)"
   ]
  },
  {
   "cell_type": "markdown",
   "id": "2ca55054",
   "metadata": {},
   "source": [
    "## Загрузка данных"
   ]
  },
  {
   "cell_type": "code",
   "execution_count": 4,
   "id": "27b046d0",
   "metadata": {},
   "outputs": [
    {
     "name": "stdout",
     "output_type": "stream",
     "text": [
      "AGE: x_train: (14396, 64, 64, 1), y_train_age: (14396,)\n",
      "     x_val:    (3600, 64, 64, 1), y_val_age:    (3600,)\n",
      "     x_test:   (4499, 64, 64, 1), y_test_age:   (4499,)\n",
      "\n",
      "GENDER: x_train: (14396, 64, 64, 1), y_train_gen: (14396,)\n",
      "        x_val:   (3600, 64, 64, 1),  y_val_gen:    (3600,)\n",
      "        x_test:  (4499, 64, 64, 1),  y_test_gen:   (4499,)\n"
     ]
    }
   ],
   "source": [
    "x_train = np.load('train_val_test/x_train.npy')\n",
    "x_val = np.load('train_val_test/x_val.npy')\n",
    "x_test = np.load('train_val_test/x_test.npy')\n",
    "\n",
    "y_train_age = np.load('train_val_test/y_train_age.npy')\n",
    "y_val_age = np.load('train_val_test/y_val_age.npy')\n",
    "y_test_age = np.load('train_val_test/y_test_age.npy')\n",
    "\n",
    "y_train_gen = np.load('train_val_test/y_train_gen.npy')\n",
    "y_val_gen = np.load('train_val_test/y_val_gen.npy')\n",
    "y_test_gen = np.load('train_val_test/y_test_gen.npy')\n",
    "\n",
    "print(f'AGE: x_train: {x_train.shape}, y_train_age: {y_train_age.shape}\\n\\\n",
    "     x_val:    {x_val.shape}, y_val_age:    {y_val_age.shape}\\n\\\n",
    "     x_test:   {x_test.shape}, y_test_age:   {y_test_age.shape}')\n",
    "print('')\n",
    "print(f'GENDER: x_train: {x_train.shape}, y_train_gen: {y_train_gen.shape}\\n\\\n",
    "        x_val:   {x_val.shape},  y_val_gen:    {y_val_gen.shape}\\n\\\n",
    "        x_test:  {x_test.shape},  y_test_gen:   {y_test_gen.shape}')\n"
   ]
  },
  {
   "cell_type": "markdown",
   "id": "13910790",
   "metadata": {},
   "source": [
    "## Keras model creation"
   ]
  },
  {
   "cell_type": "code",
   "execution_count": 5,
   "id": "8a5ba539",
   "metadata": {},
   "outputs": [
    {
     "data": {
      "text/plain": [
       "(64, 64, 1)"
      ]
     },
     "execution_count": 5,
     "metadata": {},
     "output_type": "execute_result"
    }
   ],
   "source": [
    "# размер входящего изображения\n",
    "x_train.shape[1:]"
   ]
  },
  {
   "cell_type": "markdown",
   "id": "f544475b",
   "metadata": {},
   "source": [
    "### age model for keras tuner"
   ]
  },
  {
   "cell_type": "code",
   "execution_count": 6,
   "id": "2676af33",
   "metadata": {},
   "outputs": [],
   "source": [
    "def age_model_tuner(hp):                                # random search passes this hyperparameter() object \n",
    "    model = keras.models.Sequential()\n",
    "    \n",
    "    model.add(Input(shape=x_train.shape[1:]))\n",
    "\n",
    "    model.add(Conv2D(hp.Int('n_filters_1',\n",
    "                                min_value=16,\n",
    "                                max_value=128,\n",
    "                                step=16), (3, 3)))\n",
    "    model.add(Activation('relu'))\n",
    "    model.add(MaxPooling2D(pool_size=(2, 2)))\n",
    "    \n",
    "    model.add(Conv2D(hp.Int('n_filters_2',\n",
    "                                min_value=128,\n",
    "                                max_value=256,\n",
    "                                step=16), (3, 3)))\n",
    "    model.add(Activation('relu'))\n",
    "    model.add(MaxPooling2D(pool_size=(2, 2)))\n",
    "    \n",
    "    model.add(Conv2D(hp.Int('n_filters_3',\n",
    "                                min_value=256,\n",
    "                                max_value=448,\n",
    "                                step=32), (3, 3)))\n",
    "    model.add(Activation('relu'))\n",
    "    model.add(MaxPooling2D(pool_size=(2, 2)))\n",
    "    \n",
    "    model.add(Conv2D(hp.Int('n_filters_4',\n",
    "                                min_value=448,\n",
    "                                max_value=526,\n",
    "                                step=32), (3, 3)))\n",
    "    model.add(Activation('relu'))\n",
    "    model.add(MaxPooling2D(pool_size=(2, 2)))\n",
    "    \n",
    "    model.add(Flatten())\n",
    "    model.add(BatchNormalization())\n",
    "    \n",
    "    model.add(Dense(hp.Int('n_units_1',        \n",
    "                                   min_value=128,   \n",
    "                                   max_value=512,   \n",
    "                                   step=32),\n",
    "                     activation='relu'))\n",
    "    model.add(Dropout(0.5))\n",
    "    \n",
    "    model.add(Dense(1,activation='relu',name='age_out'))\n",
    "    \n",
    "    \n",
    "    model.compile(tf.keras.optimizers.Adam(learning_rate=0.0001),\n",
    "                  loss='mse',\n",
    "                  metrics=['mae'])\n",
    "    \n",
    "    return model\n"
   ]
  },
  {
   "cell_type": "markdown",
   "id": "d4b91909",
   "metadata": {},
   "source": [
    "### AGE ImageDataGenerator"
   ]
  },
  {
   "cell_type": "code",
   "execution_count": 8,
   "id": "bda2bda3",
   "metadata": {},
   "outputs": [],
   "source": [
    "\n",
    "batch_size = 64\n",
    "\n",
    "datagen_age = ImageDataGenerator(rescale=1./255., \n",
    "                                 rotation_range = 20,\n",
    "                                 width_shift_range = 0.1,\n",
    "                                 height_shift_range = 0.1,\n",
    "                                 shear_range = 0.1,\n",
    "                                 zoom_range = 0.2,\n",
    "                                 horizontal_flip = True,\n",
    "                                 fill_mode = 'nearest')\n",
    "\n",
    "train_age = datagen_age.flow(x_train, y_train_age, batch_size=batch_size)\n",
    "\n",
    "val_datagen_age = ImageDataGenerator(rescale=1./255., \n",
    "                                     rotation_range = 20,\n",
    "                                     width_shift_range = 0.1,\n",
    "                                     height_shift_range = 0.1,\n",
    "                                     shear_range = 0.1,\n",
    "                                     zoom_range = 0.2,\n",
    "                                     horizontal_flip = True,\n",
    "                                     fill_mode = 'nearest')\n",
    "\n",
    "val_age = val_datagen_age.flow(x_val, y_val_age, batch_size=batch_size)\n"
   ]
  },
  {
   "cell_type": "code",
   "execution_count": 9,
   "id": "2c5861b8",
   "metadata": {},
   "outputs": [
    {
     "data": {
      "text/plain": [
       "<keras.engine.sequential.Sequential at 0x1c4e9e11540>"
      ]
     },
     "execution_count": 9,
     "metadata": {},
     "output_type": "execute_result"
    }
   ],
   "source": [
    "age_model_tuner(keras_tuner.HyperParameters())"
   ]
  },
  {
   "cell_type": "markdown",
   "id": "8fda6c72",
   "metadata": {},
   "source": [
    "### Создаем tuner"
   ]
  },
  {
   "cell_type": "code",
   "execution_count": 12,
   "id": "3bdcbb9c",
   "metadata": {},
   "outputs": [],
   "source": [
    "tuner = RandomSearch(\n",
    "    age_model_tuner,             # функция создания модели\n",
    "    objective='val_mae',         # метрика, которую нужно оптимизировать - \n",
    "    max_trials=30,               # максимальное количество запусков обучения \n",
    "    directory='test_age_model',  # каталог, куда сохраняются обученные сети  \n",
    "    project_name='age')\n"
   ]
  },
  {
   "cell_type": "markdown",
   "id": "4d2d9c32",
   "metadata": {},
   "source": [
    "### Запускаем подбор гиперпараметров"
   ]
  },
  {
   "cell_type": "markdown",
   "id": "e8b3a0de",
   "metadata": {},
   "source": [
    "#### Пространство поиска"
   ]
  },
  {
   "cell_type": "code",
   "execution_count": 82,
   "id": "82574f3b",
   "metadata": {
    "scrolled": true
   },
   "outputs": [
    {
     "name": "stdout",
     "output_type": "stream",
     "text": [
      "Search space summary\n",
      "Default search space size: 5\n",
      "n_filters_1 (Int)\n",
      "{'default': None, 'conditions': [], 'min_value': 16, 'max_value': 128, 'step': 16, 'sampling': None}\n",
      "n_filters_2 (Int)\n",
      "{'default': None, 'conditions': [], 'min_value': 128, 'max_value': 256, 'step': 16, 'sampling': None}\n",
      "n_filters_3 (Int)\n",
      "{'default': None, 'conditions': [], 'min_value': 256, 'max_value': 448, 'step': 32, 'sampling': None}\n",
      "n_filters_4 (Int)\n",
      "{'default': None, 'conditions': [], 'min_value': 448, 'max_value': 526, 'step': 32, 'sampling': None}\n",
      "n_units_1 (Int)\n",
      "{'default': None, 'conditions': [], 'min_value': 128, 'max_value': 512, 'step': 32, 'sampling': None}\n"
     ]
    }
   ],
   "source": [
    "tuner.search_space_summary()"
   ]
  },
  {
   "cell_type": "markdown",
   "id": "5ff9ed69",
   "metadata": {},
   "source": [
    "#### Подбор гиперпараметров"
   ]
  },
  {
   "cell_type": "code",
   "execution_count": 83,
   "id": "73a76a3c",
   "metadata": {
    "scrolled": false
   },
   "outputs": [
    {
     "name": "stdout",
     "output_type": "stream",
     "text": [
      "Trial 30 Complete [00h 11m 12s]\n",
      "val_mae: 12.191315650939941\n",
      "\n",
      "Best val_mae So Far: 11.008752822875977\n",
      "Total elapsed time: 04h 54m 21s\n",
      "INFO:tensorflow:Oracle triggered exit\n"
     ]
    }
   ],
   "source": [
    "tuner.search(train_age,                # train\n",
    "             batch_size=64,            # Размер мини-выборки\n",
    "             epochs=30,                # Количество эпох обучения \n",
    "             validation_data=val_age,  # Часть данных, которая будет использоваться для проверки\n",
    "             verbose=1\n",
    "             )"
   ]
  },
  {
   "cell_type": "markdown",
   "id": "1210a121",
   "metadata": {},
   "source": [
    "#### Выбираем лучшую модель"
   ]
  },
  {
   "cell_type": "code",
   "execution_count": 84,
   "id": "5d4b4ae6",
   "metadata": {},
   "outputs": [
    {
     "name": "stdout",
     "output_type": "stream",
     "text": [
      "Results summary\n",
      "Results in test_age_model\\age\n",
      "Showing 10 best trials\n",
      "<keras_tuner.engine.objective.Objective object at 0x00000221432EB460>\n",
      "Trial summary\n",
      "Hyperparameters:\n",
      "n_filters_1: 96\n",
      "n_filters_2: 176\n",
      "n_filters_3: 416\n",
      "n_filters_4: 512\n",
      "n_units_1: 256\n",
      "Score: 11.008752822875977\n",
      "Trial summary\n",
      "Hyperparameters:\n",
      "n_filters_1: 48\n",
      "n_filters_2: 144\n",
      "n_filters_3: 416\n",
      "n_filters_4: 512\n",
      "n_units_1: 512\n",
      "Score: 11.085577011108398\n",
      "Trial summary\n",
      "Hyperparameters:\n",
      "n_filters_1: 32\n",
      "n_filters_2: 192\n",
      "n_filters_3: 256\n",
      "n_filters_4: 512\n",
      "n_units_1: 448\n",
      "Score: 11.0856294631958\n",
      "Trial summary\n",
      "Hyperparameters:\n",
      "n_filters_1: 128\n",
      "n_filters_2: 240\n",
      "n_filters_3: 352\n",
      "n_filters_4: 512\n",
      "n_units_1: 448\n",
      "Score: 11.096977233886719\n",
      "Trial summary\n",
      "Hyperparameters:\n",
      "n_filters_1: 128\n",
      "n_filters_2: 240\n",
      "n_filters_3: 320\n",
      "n_filters_4: 512\n",
      "n_units_1: 448\n",
      "Score: 11.172633171081543\n",
      "Trial summary\n",
      "Hyperparameters:\n",
      "n_filters_1: 64\n",
      "n_filters_2: 240\n",
      "n_filters_3: 256\n",
      "n_filters_4: 480\n",
      "n_units_1: 128\n",
      "Score: 11.191986083984375\n",
      "Trial summary\n",
      "Hyperparameters:\n",
      "n_filters_1: 112\n",
      "n_filters_2: 144\n",
      "n_filters_3: 256\n",
      "n_filters_4: 512\n",
      "n_units_1: 224\n",
      "Score: 11.2102689743042\n",
      "Trial summary\n",
      "Hyperparameters:\n",
      "n_filters_1: 112\n",
      "n_filters_2: 176\n",
      "n_filters_3: 384\n",
      "n_filters_4: 480\n",
      "n_units_1: 416\n",
      "Score: 11.223336219787598\n",
      "Trial summary\n",
      "Hyperparameters:\n",
      "n_filters_1: 64\n",
      "n_filters_2: 160\n",
      "n_filters_3: 448\n",
      "n_filters_4: 448\n",
      "n_units_1: 352\n",
      "Score: 11.293208122253418\n",
      "Trial summary\n",
      "Hyperparameters:\n",
      "n_filters_1: 32\n",
      "n_filters_2: 176\n",
      "n_filters_3: 352\n",
      "n_filters_4: 480\n",
      "n_units_1: 320\n",
      "Score: 11.327075004577637\n"
     ]
    }
   ],
   "source": [
    "tuner.results_summary()"
   ]
  },
  {
   "cell_type": "markdown",
   "id": "359dac54",
   "metadata": {},
   "source": [
    "#### Получаем три лучших модели"
   ]
  },
  {
   "cell_type": "code",
   "execution_count": 85,
   "id": "d6f8115b",
   "metadata": {},
   "outputs": [],
   "source": [
    "models = tuner.get_best_models(num_models=3)"
   ]
  },
  {
   "cell_type": "markdown",
   "id": "da2931d7",
   "metadata": {},
   "source": [
    "#### Оцениваем качество модели на тестовых данных"
   ]
  },
  {
   "cell_type": "code",
   "execution_count": 86,
   "id": "8f71c618",
   "metadata": {
    "scrolled": false
   },
   "outputs": [
    {
     "name": "stdout",
     "output_type": "stream",
     "text": [
      "Model: \"sequential\"\n",
      "_________________________________________________________________\n",
      " Layer (type)                Output Shape              Param #   \n",
      "=================================================================\n",
      " conv2d (Conv2D)             (None, 62, 62, 96)        960       \n",
      "                                                                 \n",
      " activation (Activation)     (None, 62, 62, 96)        0         \n",
      "                                                                 \n",
      " max_pooling2d (MaxPooling2D  (None, 31, 31, 96)       0         \n",
      " )                                                               \n",
      "                                                                 \n",
      " conv2d_1 (Conv2D)           (None, 29, 29, 176)       152240    \n",
      "                                                                 \n",
      " activation_1 (Activation)   (None, 29, 29, 176)       0         \n",
      "                                                                 \n",
      " max_pooling2d_1 (MaxPooling  (None, 14, 14, 176)      0         \n",
      " 2D)                                                             \n",
      "                                                                 \n",
      " conv2d_2 (Conv2D)           (None, 12, 12, 416)       659360    \n",
      "                                                                 \n",
      " activation_2 (Activation)   (None, 12, 12, 416)       0         \n",
      "                                                                 \n",
      " max_pooling2d_2 (MaxPooling  (None, 6, 6, 416)        0         \n",
      " 2D)                                                             \n",
      "                                                                 \n",
      " conv2d_3 (Conv2D)           (None, 4, 4, 512)         1917440   \n",
      "                                                                 \n",
      " activation_3 (Activation)   (None, 4, 4, 512)         0         \n",
      "                                                                 \n",
      " max_pooling2d_3 (MaxPooling  (None, 2, 2, 512)        0         \n",
      " 2D)                                                             \n",
      "                                                                 \n",
      " flatten (Flatten)           (None, 2048)              0         \n",
      "                                                                 \n",
      " batch_normalization (BatchN  (None, 2048)             8192      \n",
      " ormalization)                                                   \n",
      "                                                                 \n",
      " dense (Dense)               (None, 256)               524544    \n",
      "                                                                 \n",
      " dropout (Dropout)           (None, 256)               0         \n",
      "                                                                 \n",
      " age_out (Dense)             (None, 1)                 257       \n",
      "                                                                 \n",
      "=================================================================\n",
      "Total params: 3,262,993\n",
      "Trainable params: 3,258,897\n",
      "Non-trainable params: 4,096\n",
      "_________________________________________________________________\n",
      "22/22 [==============================] - 3s 105ms/step - loss: 27656128.0000 - mae: 5097.0020\n",
      "\n",
      "Model: \"sequential\"\n",
      "_________________________________________________________________\n",
      " Layer (type)                Output Shape              Param #   \n",
      "=================================================================\n",
      " conv2d (Conv2D)             (None, 62, 62, 48)        480       \n",
      "                                                                 \n",
      " activation (Activation)     (None, 62, 62, 48)        0         \n",
      "                                                                 \n",
      " max_pooling2d (MaxPooling2D  (None, 31, 31, 48)       0         \n",
      " )                                                               \n",
      "                                                                 \n",
      " conv2d_1 (Conv2D)           (None, 29, 29, 144)       62352     \n",
      "                                                                 \n",
      " activation_1 (Activation)   (None, 29, 29, 144)       0         \n",
      "                                                                 \n",
      " max_pooling2d_1 (MaxPooling  (None, 14, 14, 144)      0         \n",
      " 2D)                                                             \n",
      "                                                                 \n",
      " conv2d_2 (Conv2D)           (None, 12, 12, 416)       539552    \n",
      "                                                                 \n",
      " activation_2 (Activation)   (None, 12, 12, 416)       0         \n",
      "                                                                 \n",
      " max_pooling2d_2 (MaxPooling  (None, 6, 6, 416)        0         \n",
      " 2D)                                                             \n",
      "                                                                 \n",
      " conv2d_3 (Conv2D)           (None, 4, 4, 512)         1917440   \n",
      "                                                                 \n",
      " activation_3 (Activation)   (None, 4, 4, 512)         0         \n",
      "                                                                 \n",
      " max_pooling2d_3 (MaxPooling  (None, 2, 2, 512)        0         \n",
      " 2D)                                                             \n",
      "                                                                 \n",
      " flatten (Flatten)           (None, 2048)              0         \n",
      "                                                                 \n",
      " batch_normalization (BatchN  (None, 2048)             8192      \n",
      " ormalization)                                                   \n",
      "                                                                 \n",
      " dense (Dense)               (None, 512)               1049088   \n",
      "                                                                 \n",
      " dropout (Dropout)           (None, 512)               0         \n",
      "                                                                 \n",
      " age_out (Dense)             (None, 1)                 513       \n",
      "                                                                 \n",
      "=================================================================\n",
      "Total params: 3,577,617\n",
      "Trainable params: 3,573,521\n",
      "Non-trainable params: 4,096\n",
      "_________________________________________________________________\n",
      "22/22 [==============================] - 1s 57ms/step - loss: 20037102.0000 - mae: 4013.5950\n",
      "\n",
      "Model: \"sequential\"\n",
      "_________________________________________________________________\n",
      " Layer (type)                Output Shape              Param #   \n",
      "=================================================================\n",
      " conv2d (Conv2D)             (None, 62, 62, 32)        320       \n",
      "                                                                 \n",
      " activation (Activation)     (None, 62, 62, 32)        0         \n",
      "                                                                 \n",
      " max_pooling2d (MaxPooling2D  (None, 31, 31, 32)       0         \n",
      " )                                                               \n",
      "                                                                 \n",
      " conv2d_1 (Conv2D)           (None, 29, 29, 192)       55488     \n",
      "                                                                 \n",
      " activation_1 (Activation)   (None, 29, 29, 192)       0         \n",
      "                                                                 \n",
      " max_pooling2d_1 (MaxPooling  (None, 14, 14, 192)      0         \n",
      " 2D)                                                             \n",
      "                                                                 \n",
      " conv2d_2 (Conv2D)           (None, 12, 12, 256)       442624    \n",
      "                                                                 \n",
      " activation_2 (Activation)   (None, 12, 12, 256)       0         \n",
      "                                                                 \n",
      " max_pooling2d_2 (MaxPooling  (None, 6, 6, 256)        0         \n",
      " 2D)                                                             \n",
      "                                                                 \n",
      " conv2d_3 (Conv2D)           (None, 4, 4, 512)         1180160   \n",
      "                                                                 \n",
      " activation_3 (Activation)   (None, 4, 4, 512)         0         \n",
      "                                                                 \n",
      " max_pooling2d_3 (MaxPooling  (None, 2, 2, 512)        0         \n",
      " 2D)                                                             \n",
      "                                                                 \n",
      " flatten (Flatten)           (None, 2048)              0         \n",
      "                                                                 \n",
      " batch_normalization (BatchN  (None, 2048)             8192      \n",
      " ormalization)                                                   \n",
      "                                                                 \n",
      " dense (Dense)               (None, 448)               917952    \n",
      "                                                                 \n",
      " dropout (Dropout)           (None, 448)               0         \n",
      "                                                                 \n",
      " age_out (Dense)             (None, 1)                 449       \n",
      "                                                                 \n",
      "=================================================================\n",
      "Total params: 2,605,185\n",
      "Trainable params: 2,601,089\n",
      "Non-trainable params: 4,096\n",
      "_________________________________________________________________\n"
     ]
    },
    {
     "name": "stdout",
     "output_type": "stream",
     "text": [
      "22/22 [==============================] - 1s 44ms/step - loss: 19524792.0000 - mae: 4241.1655\n",
      "\n"
     ]
    }
   ],
   "source": [
    "for model in models:\n",
    "  model.summary()\n",
    "  model.evaluate(x_test, y_test)\n",
    "  print()"
   ]
  },
  {
   "cell_type": "markdown",
   "id": "cf81e77e",
   "metadata": {},
   "source": [
    "Выбрана модель:\n",
    "\n",
    "Hyperparameters:\n",
    "\n",
    "n_filters_1: 96\n",
    "\n",
    "n_filters_2: 176\n",
    "\n",
    "n_filters_3: 416\n",
    "\n",
    "n_filters_4: 512\n",
    "\n",
    "n_units_1: 256\n",
    "\n",
    "Score: 11.008752822875977"
   ]
  },
  {
   "cell_type": "markdown",
   "id": "29834e7f",
   "metadata": {},
   "source": [
    "### gen model for keras tuner"
   ]
  },
  {
   "cell_type": "code",
   "execution_count": 45,
   "id": "f10b3762",
   "metadata": {},
   "outputs": [],
   "source": [
    "def gen_model_tuner(hp):\n",
    "    model = keras.models.Sequential()\n",
    "    \n",
    "    model.add(tf.keras.Input(x_train.shape[1:]))\n",
    "\n",
    "    model.add(Conv2D(hp.Int('filter_11',\n",
    "                                min_value=16,\n",
    "                                max_value=128,\n",
    "                                step=16), (3, 3)))\n",
    "    model.add(Activation('relu'))\n",
    "    model.add(MaxPooling2D(pool_size=(2, 2)))\n",
    "    \n",
    "    model.add(Conv2D(hp.Int('filter_12',\n",
    "                                min_value=128,\n",
    "                                max_value=256,\n",
    "                                step=16), (3, 3)))\n",
    "    model.add(Activation('relu'))\n",
    "    model.add(MaxPooling2D(pool_size=(2, 2)))\n",
    "    \n",
    "    model.add(Conv2D(hp.Int('filter_13',\n",
    "                                min_value=256,\n",
    "                                max_value=512,\n",
    "                                step=32), (3, 3)))\n",
    "    model.add(Activation('relu'))\n",
    "    model.add(MaxPooling2D(pool_size=(2, 2)))\n",
    "    \n",
    "    model.add(Flatten())\n",
    "    model.add(BatchNormalization())\n",
    "    \n",
    "    model.add(Dense(hp.Int('units_11',        \n",
    "                                   min_value=128,   \n",
    "                                   max_value=512,   \n",
    "                                   step=32),\n",
    "                     activation='relu'))\n",
    "    model.add(Dropout(0.6))\n",
    "    \n",
    "    model.add(Dense(2,activation='softmax',name='gen_out'))\n",
    "    \n",
    "#     model = tf.keras.models.Model(inputs=inputs, outputs=outputs_age)\n",
    "    \n",
    "    model.compile(tf.keras.optimizers.Adam(learning_rate=0.0001),\n",
    "                  loss='binary_crossentropy',\n",
    "                  metrics=['accuracy'])\n",
    "    \n",
    "    return model\n"
   ]
  },
  {
   "cell_type": "code",
   "execution_count": 46,
   "id": "24a36a98",
   "metadata": {},
   "outputs": [
    {
     "data": {
      "text/plain": [
       "<keras.engine.sequential.Sequential at 0x22125852ee0>"
      ]
     },
     "execution_count": 46,
     "metadata": {},
     "output_type": "execute_result"
    }
   ],
   "source": [
    "gen_model_tuner(keras_tuner.HyperParameters())"
   ]
  },
  {
   "cell_type": "markdown",
   "id": "e9898614",
   "metadata": {},
   "source": [
    "### GENDER ImageDataGenerator"
   ]
  },
  {
   "cell_type": "code",
   "execution_count": 47,
   "id": "9e7b854e",
   "metadata": {},
   "outputs": [],
   "source": [
    "\n",
    "batch_size = 64\n",
    "\n",
    "y_train_gen = tf.keras.utils.to_categorical(y_train[:,1], num_classes=2)\n",
    "y_val_gen = tf.keras.utils.to_categorical(y_val[:,1], num_classes=2)\n",
    "\n",
    "datagen_gen = ImageDataGenerator(rescale=1./255., \n",
    "                                 rotation_range = 20,\n",
    "                                 width_shift_range = 0.1,\n",
    "                                 height_shift_range = 0.1,\n",
    "                                 shear_range = 0.1,\n",
    "                                 zoom_range = 0.2,\n",
    "                                 horizontal_flip = True,\n",
    "                                 fill_mode = 'nearest') \n",
    "\n",
    "train_gender = datagen_gen.flow(x_train, y_train_gen, batch_size=batch_size)\n",
    "\n",
    "val_datagen_gender = ImageDataGenerator(rescale=1./255., \n",
    "                                        rotation_range = 20,\n",
    "                                        width_shift_range = 0.1,\n",
    "                                        height_shift_range = 0.1,\n",
    "                                        shear_range = 0.1,\n",
    "                                        zoom_range = 0.2,\n",
    "                                        horizontal_flip = True,\n",
    "                                        fill_mode = 'nearest')\n",
    "\n",
    "val_gender = val_datagen_gender.flow(x_val, y_val_gen, batch_size=batch_size)\n",
    "\n"
   ]
  },
  {
   "cell_type": "markdown",
   "id": "5fd346ee",
   "metadata": {},
   "source": [
    "### Создаем tuner"
   ]
  },
  {
   "cell_type": "code",
   "execution_count": 48,
   "id": "8b569b6b",
   "metadata": {},
   "outputs": [],
   "source": [
    "tuner = RandomSearch(\n",
    "    gen_model_tuner,                   # функция создания модели\n",
    "    objective='val_accuracy',         # метрика, которую нужно оптимизировать - \n",
    "    max_trials=10,               # максимальное количество запусков обучения \n",
    "    directory='test_gen_model',  # каталог, куда сохраняются обученные сети  \n",
    "    project_name='gen'\n",
    "    )"
   ]
  },
  {
   "cell_type": "markdown",
   "id": "f662288e",
   "metadata": {},
   "source": [
    "### Запускаем подбор гиперпараметров"
   ]
  },
  {
   "cell_type": "markdown",
   "id": "96c39e38",
   "metadata": {},
   "source": [
    "#### Пространство поиска"
   ]
  },
  {
   "cell_type": "code",
   "execution_count": 49,
   "id": "52996705",
   "metadata": {},
   "outputs": [
    {
     "name": "stdout",
     "output_type": "stream",
     "text": [
      "Search space summary\n",
      "Default search space size: 4\n",
      "filter_11 (Int)\n",
      "{'default': None, 'conditions': [], 'min_value': 16, 'max_value': 128, 'step': 16, 'sampling': None}\n",
      "filter_12 (Int)\n",
      "{'default': None, 'conditions': [], 'min_value': 128, 'max_value': 256, 'step': 16, 'sampling': None}\n",
      "filter_13 (Int)\n",
      "{'default': None, 'conditions': [], 'min_value': 256, 'max_value': 512, 'step': 32, 'sampling': None}\n",
      "units_11 (Int)\n",
      "{'default': None, 'conditions': [], 'min_value': 128, 'max_value': 512, 'step': 32, 'sampling': None}\n"
     ]
    }
   ],
   "source": [
    "tuner.search_space_summary()"
   ]
  },
  {
   "cell_type": "markdown",
   "id": "f1de7e4e",
   "metadata": {},
   "source": [
    "#### Подбор гиперпараметров"
   ]
  },
  {
   "cell_type": "code",
   "execution_count": 50,
   "id": "7ba12e19",
   "metadata": {
    "scrolled": true
   },
   "outputs": [
    {
     "name": "stdout",
     "output_type": "stream",
     "text": [
      "Trial 10 Complete [00h 04m 22s]\n",
      "val_accuracy: 0.7839285731315613\n",
      "\n",
      "Best val_accuracy So Far: 0.8089285492897034\n",
      "Total elapsed time: 00h 38m 26s\n",
      "INFO:tensorflow:Oracle triggered exit\n"
     ]
    }
   ],
   "source": [
    "tuner.search(train_gender,                # train\n",
    "             batch_size=64,            # Размер мини-выборки\n",
    "             epochs=10,                # Количество эпох обучения \n",
    "             validation_data=val_gender,  # Часть данных, которая будет использоваться для проверки\n",
    "             verbose=1\n",
    "             )"
   ]
  },
  {
   "cell_type": "markdown",
   "id": "5b5f82f0",
   "metadata": {},
   "source": [
    "#### Выбираем лучшую модель"
   ]
  },
  {
   "cell_type": "code",
   "execution_count": 51,
   "id": "ea46ca06",
   "metadata": {},
   "outputs": [
    {
     "name": "stdout",
     "output_type": "stream",
     "text": [
      "Results summary\n",
      "Results in test_gen_model\\gen\n",
      "Showing 10 best trials\n",
      "<keras_tuner.engine.objective.Objective object at 0x000002213D19A3A0>\n",
      "Trial summary\n",
      "Hyperparameters:\n",
      "filter_11: 48\n",
      "filter_12: 240\n",
      "filter_13: 480\n",
      "units_11: 416\n",
      "Score: 0.8089285492897034\n",
      "Trial summary\n",
      "Hyperparameters:\n",
      "filter_11: 64\n",
      "filter_12: 128\n",
      "filter_13: 288\n",
      "units_11: 416\n",
      "Score: 0.7892857193946838\n",
      "Trial summary\n",
      "Hyperparameters:\n",
      "filter_11: 112\n",
      "filter_12: 144\n",
      "filter_13: 480\n",
      "units_11: 384\n",
      "Score: 0.7857142686843872\n",
      "Trial summary\n",
      "Hyperparameters:\n",
      "filter_11: 80\n",
      "filter_12: 176\n",
      "filter_13: 320\n",
      "units_11: 256\n",
      "Score: 0.7839285731315613\n",
      "Trial summary\n",
      "Hyperparameters:\n",
      "filter_11: 16\n",
      "filter_12: 208\n",
      "filter_13: 416\n",
      "units_11: 224\n",
      "Score: 0.7767857313156128\n",
      "Trial summary\n",
      "Hyperparameters:\n",
      "filter_11: 96\n",
      "filter_12: 208\n",
      "filter_13: 512\n",
      "units_11: 448\n",
      "Score: 0.7749999761581421\n",
      "Trial summary\n",
      "Hyperparameters:\n",
      "filter_11: 48\n",
      "filter_12: 160\n",
      "filter_13: 448\n",
      "units_11: 224\n",
      "Score: 0.7732142806053162\n",
      "Trial summary\n",
      "Hyperparameters:\n",
      "filter_11: 32\n",
      "filter_12: 176\n",
      "filter_13: 352\n",
      "units_11: 256\n",
      "Score: 0.7714285850524902\n",
      "Trial summary\n",
      "Hyperparameters:\n",
      "filter_11: 16\n",
      "filter_12: 144\n",
      "filter_13: 256\n",
      "units_11: 384\n",
      "Score: 0.7678571343421936\n",
      "Trial summary\n",
      "Hyperparameters:\n",
      "filter_11: 16\n",
      "filter_12: 240\n",
      "filter_13: 352\n",
      "units_11: 384\n",
      "Score: 0.762499988079071\n"
     ]
    }
   ],
   "source": [
    "tuner.results_summary()"
   ]
  },
  {
   "cell_type": "markdown",
   "id": "d8c99637",
   "metadata": {},
   "source": [
    "#### Получаем три лучших модели"
   ]
  },
  {
   "cell_type": "code",
   "execution_count": 52,
   "id": "ba9490d5",
   "metadata": {},
   "outputs": [],
   "source": [
    "models = tuner.get_best_models(num_models=3)"
   ]
  },
  {
   "cell_type": "markdown",
   "id": "1f225933",
   "metadata": {},
   "source": [
    "#### Оцениваем качество модели на тестовых данных"
   ]
  },
  {
   "cell_type": "code",
   "execution_count": 53,
   "id": "4c2365a6",
   "metadata": {
    "scrolled": false
   },
   "outputs": [
    {
     "name": "stdout",
     "output_type": "stream",
     "text": [
      "Model: \"sequential\"\n",
      "_________________________________________________________________\n",
      " Layer (type)                Output Shape              Param #   \n",
      "=================================================================\n",
      " conv2d (Conv2D)             (None, 62, 62, 48)        480       \n",
      "                                                                 \n",
      " activation (Activation)     (None, 62, 62, 48)        0         \n",
      "                                                                 \n",
      " max_pooling2d (MaxPooling2D  (None, 31, 31, 48)       0         \n",
      " )                                                               \n",
      "                                                                 \n",
      " conv2d_1 (Conv2D)           (None, 29, 29, 240)       103920    \n",
      "                                                                 \n",
      " activation_1 (Activation)   (None, 29, 29, 240)       0         \n",
      "                                                                 \n",
      " max_pooling2d_1 (MaxPooling  (None, 14, 14, 240)      0         \n",
      " 2D)                                                             \n",
      "                                                                 \n",
      " conv2d_2 (Conv2D)           (None, 12, 12, 480)       1037280   \n",
      "                                                                 \n",
      " activation_2 (Activation)   (None, 12, 12, 480)       0         \n",
      "                                                                 \n",
      " max_pooling2d_2 (MaxPooling  (None, 6, 6, 480)        0         \n",
      " 2D)                                                             \n",
      "                                                                 \n",
      " flatten (Flatten)           (None, 17280)             0         \n",
      "                                                                 \n",
      " batch_normalization (BatchN  (None, 17280)            69120     \n",
      " ormalization)                                                   \n",
      "                                                                 \n",
      " dense (Dense)               (None, 416)               7188896   \n",
      "                                                                 \n",
      " dropout (Dropout)           (None, 416)               0         \n",
      "                                                                 \n",
      " gen_out (Dense)             (None, 2)                 834       \n",
      "                                                                 \n",
      "=================================================================\n",
      "Total params: 8,400,530\n",
      "Trainable params: 8,365,970\n",
      "Non-trainable params: 34,560\n",
      "_________________________________________________________________\n",
      "22/22 [==============================] - 3s 98ms/step - loss: -1969.9236 - accuracy: 0.9829\n",
      "\n",
      "Model: \"sequential\"\n",
      "_________________________________________________________________\n",
      " Layer (type)                Output Shape              Param #   \n",
      "=================================================================\n",
      " conv2d (Conv2D)             (None, 62, 62, 64)        640       \n",
      "                                                                 \n",
      " activation (Activation)     (None, 62, 62, 64)        0         \n",
      "                                                                 \n",
      " max_pooling2d (MaxPooling2D  (None, 31, 31, 64)       0         \n",
      " )                                                               \n",
      "                                                                 \n",
      " conv2d_1 (Conv2D)           (None, 29, 29, 128)       73856     \n",
      "                                                                 \n",
      " activation_1 (Activation)   (None, 29, 29, 128)       0         \n",
      "                                                                 \n",
      " max_pooling2d_1 (MaxPooling  (None, 14, 14, 128)      0         \n",
      " 2D)                                                             \n",
      "                                                                 \n",
      " conv2d_2 (Conv2D)           (None, 12, 12, 288)       332064    \n",
      "                                                                 \n",
      " activation_2 (Activation)   (None, 12, 12, 288)       0         \n",
      "                                                                 \n",
      " max_pooling2d_2 (MaxPooling  (None, 6, 6, 288)        0         \n",
      " 2D)                                                             \n",
      "                                                                 \n",
      " flatten (Flatten)           (None, 10368)             0         \n",
      "                                                                 \n",
      " batch_normalization (BatchN  (None, 10368)            41472     \n",
      " ormalization)                                                   \n",
      "                                                                 \n",
      " dense (Dense)               (None, 416)               4313504   \n",
      "                                                                 \n",
      " dropout (Dropout)           (None, 416)               0         \n",
      "                                                                 \n",
      " gen_out (Dense)             (None, 2)                 834       \n",
      "                                                                 \n",
      "=================================================================\n",
      "Total params: 4,762,370\n",
      "Trainable params: 4,741,634\n",
      "Non-trainable params: 20,736\n",
      "_________________________________________________________________\n",
      "22/22 [==============================] - 1s 48ms/step - loss: -1033.2708 - accuracy: 0.9286\n",
      "\n",
      "Model: \"sequential\"\n",
      "_________________________________________________________________\n",
      " Layer (type)                Output Shape              Param #   \n",
      "=================================================================\n",
      " conv2d (Conv2D)             (None, 62, 62, 112)       1120      \n",
      "                                                                 \n",
      " activation (Activation)     (None, 62, 62, 112)       0         \n",
      "                                                                 \n",
      " max_pooling2d (MaxPooling2D  (None, 31, 31, 112)      0         \n",
      " )                                                               \n",
      "                                                                 \n",
      " conv2d_1 (Conv2D)           (None, 29, 29, 144)       145296    \n",
      "                                                                 \n",
      " activation_1 (Activation)   (None, 29, 29, 144)       0         \n",
      "                                                                 \n",
      " max_pooling2d_1 (MaxPooling  (None, 14, 14, 144)      0         \n",
      " 2D)                                                             \n",
      "                                                                 \n",
      " conv2d_2 (Conv2D)           (None, 12, 12, 480)       622560    \n",
      "                                                                 \n",
      " activation_2 (Activation)   (None, 12, 12, 480)       0         \n",
      "                                                                 \n",
      " max_pooling2d_2 (MaxPooling  (None, 6, 6, 480)        0         \n",
      " 2D)                                                             \n",
      "                                                                 \n",
      " flatten (Flatten)           (None, 17280)             0         \n",
      "                                                                 \n",
      " batch_normalization (BatchN  (None, 17280)            69120     \n",
      " ormalization)                                                   \n",
      "                                                                 \n",
      " dense (Dense)               (None, 384)               6635904   \n",
      "                                                                 \n",
      " dropout (Dropout)           (None, 384)               0         \n",
      "                                                                 \n",
      " gen_out (Dense)             (None, 2)                 770       \n",
      "                                                                 \n",
      "=================================================================\n",
      "Total params: 7,474,770\n",
      "Trainable params: 7,440,210\n",
      "Non-trainable params: 34,560\n",
      "_________________________________________________________________\n",
      "22/22 [==============================] - 2s 87ms/step - loss: -1451.9955 - accuracy: 0.8814\n",
      "\n"
     ]
    }
   ],
   "source": [
    "for model in models:\n",
    "  model.summary()\n",
    "  model.evaluate(x_test, y_test)\n",
    "  print()"
   ]
  },
  {
   "cell_type": "markdown",
   "id": "41b4dbb4",
   "metadata": {},
   "source": [
    "Выбрана модель:\n",
    "\n",
    "Hyperparameters:\n",
    "\n",
    "filter_11: 48\n",
    "\n",
    "filter_12: 240\n",
    "\n",
    "filter_13: 480\n",
    "\n",
    "units_11: 416\n",
    "\n",
    "Score: 0.8089285492897034"
   ]
  },
  {
   "cell_type": "code",
   "execution_count": null,
   "id": "e2e71a43",
   "metadata": {},
   "outputs": [],
   "source": []
  }
 ],
 "metadata": {
  "kernelspec": {
   "display_name": "Python 3 (ipykernel)",
   "language": "python",
   "name": "python3"
  },
  "language_info": {
   "codemirror_mode": {
    "name": "ipython",
    "version": 3
   },
   "file_extension": ".py",
   "mimetype": "text/x-python",
   "name": "python",
   "nbconvert_exporter": "python",
   "pygments_lexer": "ipython3",
   "version": "3.10.9"
  },
  "toc": {
   "base_numbering": 1,
   "nav_menu": {},
   "number_sections": false,
   "sideBar": true,
   "skip_h1_title": false,
   "title_cell": "Table of Contents",
   "title_sidebar": "Contents",
   "toc_cell": true,
   "toc_position": {
    "height": "calc(100% - 180px)",
    "left": "10px",
    "top": "150px",
    "width": "286.825px"
   },
   "toc_section_display": true,
   "toc_window_display": true
  }
 },
 "nbformat": 4,
 "nbformat_minor": 5
}
